{
 "cells": [
  {
   "cell_type": "code",
   "execution_count": 1,
   "id": "7e6f95e2-d6e2-48d2-90b7-a8e3150bf569",
   "metadata": {},
   "outputs": [
    {
     "name": "stdin",
     "output_type": "stream",
     "text": [
      "Nhap mot so nguyen: 1\n"
     ]
    },
    {
     "name": "stdout",
     "output_type": "stream",
     "text": [
      "2\n"
     ]
    }
   ],
   "source": [
    "n = int(input(\"Nhap mot so nguyen:\"))\n",
    "print(n*2)"
   ]
  },
  {
   "cell_type": "code",
   "execution_count": 2,
   "id": "cdd0b778-f9ba-4963-aede-12bd515ade37",
   "metadata": {},
   "outputs": [
    {
     "name": "stdin",
     "output_type": "stream",
     "text": [
      "Chieu rong cua manh dat la:  3\n",
      "Chieu dai cua manh dat la:  5\n"
     ]
    },
    {
     "name": "stdout",
     "output_type": "stream",
     "text": [
      "Dien tich trong cay:  7.93\n"
     ]
    }
   ],
   "source": [
    "a = float(input(\"Chieu rong cua manh dat la:\"))\n",
    "b = float(input(\"Chieu dai cua manh dat la:\"))\n",
    "s = a*b - (a/2)**2*3.14\n",
    "print(\"Dien tich trong cay: \", round(s, 2))"
   ]
  },
  {
   "cell_type": "code",
   "execution_count": 2,
   "id": "637d3464-0fe3-42a4-9739-376e723bc5d0",
   "metadata": {},
   "outputs": [
    {
     "name": "stdin",
     "output_type": "stream",
     "text": [
      "Nhap mot ki tu: a\n"
     ]
    },
    {
     "name": "stdout",
     "output_type": "stream",
     "text": [
      "A\n"
     ]
    }
   ],
   "source": [
    "c = input(\"Nhap mot ki tu:\")\n",
    "if ord(c) == ord(c.upper()):\n",
    "    print(c.lower())\n",
    "else:\n",
    "    print(c.upper())"
   ]
  },
  {
   "cell_type": "code",
   "execution_count": 4,
   "id": "0162a99a-6a47-44cb-9930-4ba132acaff2",
   "metadata": {},
   "outputs": [
    {
     "name": "stdin",
     "output_type": "stream",
     "text": [
      "Nhap mot ki tu: K\n"
     ]
    },
    {
     "name": "stdout",
     "output_type": "stream",
     "text": [
      "k\n"
     ]
    }
   ],
   "source": [
    "c = input(\"Nhap mot ki tu:\")\n",
    "if c.isupper():\n",
    "    print(c.lower())\n",
    "else:\n",
    "    print(c.upper())"
   ]
  },
  {
   "cell_type": "code",
   "execution_count": 2,
   "id": "7572edb6-f55d-49bc-b7b5-ed67a709ad21",
   "metadata": {},
   "outputs": [
    {
     "name": "stdin",
     "output_type": "stream",
     "text": [
      "Nhap mot ki tu:  2\n"
     ]
    },
    {
     "name": "stdout",
     "output_type": "stream",
     "text": [
      "2 khong phai la ki tu alphabet\n"
     ]
    }
   ],
   "source": [
    "c = input(\"Nhap mot ki tu:\")\n",
    "if ord(c) == ord(c.upper()) or ord(c) == ord(c.lower()):\n",
    "    if ord(c) == ord(c.upper()) == ord(c.lower()):\n",
    "        print(c, \"khong phai la ki tu alphabet\")\n",
    "    else:\n",
    "        print(c, \"la ki tu alphabet\")\n",
    "else:\n",
    "    print(c, \"khong phai la ki tu alphabet\")"
   ]
  },
  {
   "cell_type": "code",
   "execution_count": 6,
   "id": "6515cba1-3eeb-423b-9d7e-3618c5d2099d",
   "metadata": {},
   "outputs": [
    {
     "name": "stdin",
     "output_type": "stream",
     "text": [
      "Nhap mot chu cai in hoa:  D\n"
     ]
    },
    {
     "name": "stdout",
     "output_type": "stream",
     "text": [
      "d\n",
      "c\n"
     ]
    }
   ],
   "source": [
    "q = input(\"Nhap mot chu cai in hoa:\")\n",
    "print(q.lower())\n",
    "p = ord(q) - 1\n",
    "if q == 'A':\n",
    "    print(\"Khong co chu lien truoc\")\n",
    "else: \n",
    "    print(chr(p).lower())"
   ]
  },
  {
   "cell_type": "code",
   "execution_count": 8,
   "id": "a2672888-4cbb-4aa5-961a-c199b63835c4",
   "metadata": {},
   "outputs": [
    {
     "name": "stdin",
     "output_type": "stream",
     "text": [
      "Nhap lan luot 3 so a, b, c cach nhau khoang cach:  3 4 5\n"
     ]
    },
    {
     "name": "stdout",
     "output_type": "stream",
     "text": [
      "6.0\n"
     ]
    }
   ],
   "source": [
    "k = input(\"Nhap lan luot 3 so a, b, c cach nhau khoang cach:\")\n",
    "a, b, c = map(float, k.split())\n",
    "if a+b>c and a+c>b and b+c>a:\n",
    "    p = (a+b+c)/2\n",
    "    s = (p*(p-a)*(p-b)*(p-c))**(1/2)\n",
    "    print(round(s, 1))\n",
    "else: \n",
    "    print(\"Khong phai 3 canh tam giac\")"
   ]
  },
  {
   "cell_type": "code",
   "execution_count": 10,
   "id": "1a2ec815-8fed-427c-93b9-7ad7bf9cb557",
   "metadata": {},
   "outputs": [
    {
     "name": "stdin",
     "output_type": "stream",
     "text": [
      "Nhap mot chuoi ki tu dai >= 20 ki tu:  phanduykhanh\n"
     ]
    },
    {
     "name": "stdout",
     "output_type": "stream",
     "text": [
      "d h\n"
     ]
    }
   ],
   "source": [
    "s = input(\"Nhap mot chuoi ki tu dai >= 20 ki tu:\")\n",
    "print(s[4], s[8])"
   ]
  },
  {
   "cell_type": "code",
   "execution_count": 7,
   "id": "ebc624e2-fa23-47a7-89cc-8b752d038692",
   "metadata": {},
   "outputs": [
    {
     "name": "stdin",
     "output_type": "stream",
     "text": [
      "Ten chu ho: hai\n",
      "Chi so thang truoc: 2000\n",
      "Chi so thang nay: 2586\n"
     ]
    },
    {
     "name": "stdout",
     "output_type": "stream",
     "text": [
      "Ho va ten: hai\n",
      "Tien phai tra la: 1855505\n"
     ]
    }
   ],
   "source": [
    "ten = input(\"Ten chu ho:\")\n",
    "trc = int(input(\"Chi so thang truoc:\"))\n",
    "nay = int(input(\"Chi so thang nay:\"))\n",
    "so = nay - trc\n",
    "a = 50\n",
    "b = 100\n",
    "print(\"Ho va ten:\", ten)\n",
    "if so >= 401:\n",
    "    tien = a*(1984 + 2050) + b*(2380 + 2998 + 3350) + (so - 400)*3460\n",
    "elif so >= 301:\n",
    "    tien = a*(1984 + 2050) + b*(2380 + 2998) + (so - 300)*3350\n",
    "elif so >= 201:\n",
    "    tien = a*(1984 + 2050) + b*2380 + (so - 200)*2998\n",
    "elif so >= 101:\n",
    "    tien = a*(1984 + 2050) + (so - 100)*2380\n",
    "elif so >= 51:\n",
    "    tien = a*1984 + (so - 50)*2050\n",
    "else:\n",
    "    tien = so*1984\n",
    "thue = tien*8/100\n",
    "thue = round(thue)\n",
    "tien = thue + tien\n",
    "print(\"Tien phai tra la:\", tien)"
   ]
  },
  {
   "cell_type": "code",
   "execution_count": 1,
   "id": "9c63f281-319e-4458-87d4-a9d93fd0176e",
   "metadata": {},
   "outputs": [
    {
     "name": "stdin",
     "output_type": "stream",
     "text": [
      "Nhap mot so nguyen:  2\n"
     ]
    },
    {
     "name": "stdout",
     "output_type": "stream",
     "text": [
      "2 la so chan\n"
     ]
    }
   ],
   "source": [
    "a = int(input(\"Nhap mot so nguyen:\"))\n",
    "if a % 2 == 0:\n",
    "    print(a, \"la so chan\")\n",
    "else:\n",
    "    print(a, \"la so le\")"
   ]
  },
  {
   "cell_type": "code",
   "execution_count": 2,
   "id": "2a4d3433-1c1a-42d6-bfef-07fc3f0cece5",
   "metadata": {},
   "outputs": [
    {
     "name": "stdin",
     "output_type": "stream",
     "text": [
      "Nhap mot so nguyen: 3\n"
     ]
    },
    {
     "name": "stdout",
     "output_type": "stream",
     "text": [
      "False\n"
     ]
    }
   ],
   "source": [
    "a = int(input(\"Nhap mot so nguyen:\"))\n",
    "if a % 5 == 0:\n",
    "    print(\"True\")\n",
    "else:\n",
    "    print(\"False\")\n",
    "        "
   ]
  },
  {
   "cell_type": "code",
   "execution_count": 3,
   "id": "49af53a5-8ced-48b2-bf20-0a6e2a982304",
   "metadata": {},
   "outputs": [
    {
     "name": "stdin",
     "output_type": "stream",
     "text": [
      "Nhap mot so nguyen: 15\n"
     ]
    },
    {
     "name": "stdout",
     "output_type": "stream",
     "text": [
      "True\n"
     ]
    }
   ],
   "source": [
    "a = int(input(\"Nhap mot so nguyen:\"))\n",
    "if a % 15 == 0:\n",
    "    print(\"True\")\n",
    "else:\n",
    "    print(\"False\")\n",
    "        "
   ]
  },
  {
   "cell_type": "code",
   "execution_count": 4,
   "id": "ad213b7c-c074-4358-a5f9-0756fe07e11f",
   "metadata": {},
   "outputs": [
    {
     "name": "stdin",
     "output_type": "stream",
     "text": [
      "Nhap nam sinh: 2007\n"
     ]
    },
    {
     "name": "stdout",
     "output_type": "stream",
     "text": [
      "Du tuoi bau cu\n"
     ]
    }
   ],
   "source": [
    "a = int(input(\"Nhap nam sinh:\"))\n",
    "if 2025-a>=18:\n",
    "    print(\"Du tuoi bau cu\")\n",
    "else:\n",
    "    print(\"Khong du tuoi bau cu\")"
   ]
  },
  {
   "cell_type": "code",
   "execution_count": 6,
   "id": "7cf1c25e-8ce5-4734-aa0a-7bed8ebb12ed",
   "metadata": {},
   "outputs": [
    {
     "name": "stdin",
     "output_type": "stream",
     "text": [
      "nhap so a: 5\n",
      "nhap so b: 5\n"
     ]
    },
    {
     "name": "stdout",
     "output_type": "stream",
     "text": [
      "Hai so bang nhau\n"
     ]
    }
   ],
   "source": [
    "a = int(input(\"nhap so a:\"))\n",
    "b = int(input(\"nhap so b:\"))\n",
    "if a > b:\n",
    "    print(a)\n",
    "else:\n",
    "    if a < b:\n",
    "        print(b)\n",
    "    else:\n",
    "        print(\"Hai so bang nhau\")"
   ]
  },
  {
   "cell_type": "code",
   "execution_count": 7,
   "id": "af63ecbe-98de-4967-bc20-4aa5c856c410",
   "metadata": {},
   "outputs": [
    {
     "name": "stdin",
     "output_type": "stream",
     "text": [
      "Nhap mot ki tu: 2\n"
     ]
    },
    {
     "name": "stdout",
     "output_type": "stream",
     "text": [
      "2 la so\n"
     ]
    }
   ],
   "source": [
    "a = input(\"Nhap mot ki tu:\")\n",
    "if ord(a.upper()) > ord(a.lower()):\n",
    "    print(a, \"la chu\")\n",
    "else:\n",
    "    print(a, \"la so\")"
   ]
  },
  {
   "cell_type": "code",
   "execution_count": 8,
   "id": "985cf183-ea36-4e5f-8c18-052d530172e8",
   "metadata": {},
   "outputs": [
    {
     "name": "stdin",
     "output_type": "stream",
     "text": [
      "Nhap diem: 6.5\n"
     ]
    },
    {
     "name": "stdout",
     "output_type": "stream",
     "text": [
      "Kha\n"
     ]
    }
   ],
   "source": [
    "a = float(input(\"Nhap diem:\"))\n",
    "if a >= 8:\n",
    "    print(\"Gioi\")\n",
    "elif a >= 6.5:\n",
    "    print(\"Kha\")\n",
    "elif a >= 5:\n",
    "    print(\"Trung binh\")\n",
    "else:\n",
    "    print(\"Yeu\")"
   ]
  },
  {
   "cell_type": "code",
   "execution_count": 12,
   "id": "59493c04-cc92-4725-ae07-80d2a358248c",
   "metadata": {},
   "outputs": [
    {
     "name": "stdin",
     "output_type": "stream",
     "text": [
      "Nhap nam: 2025\n"
     ]
    },
    {
     "name": "stdout",
     "output_type": "stream",
     "text": [
      "Khong phai nam nhuan\n"
     ]
    }
   ],
   "source": [
    "a = int(input(\"Nhap nam:\"))\n",
    "if a % 4:\n",
    "    if a % 100:\n",
    "        print(\"Khong phai nam nhuan\")\n",
    "    else:\n",
    "        print(\"Nam nhuan\")\n",
    "else:\n",
    "    print(\"Khong phai nam nhuan\")"
   ]
  },
  {
   "cell_type": "code",
   "execution_count": 17,
   "id": "86fcd102-86aa-4fd8-977a-743eb2f2e96b",
   "metadata": {},
   "outputs": [
    {
     "name": "stdin",
     "output_type": "stream",
     "text": [
      "Nhap 1 so nguyen tu 0 den 9: 5\n"
     ]
    },
    {
     "name": "stdout",
     "output_type": "stream",
     "text": [
      "Nam\n"
     ]
    }
   ],
   "source": [
    "a = int(input(\"Nhap 1 so nguyen tu 0 den 9:\"))\n",
    "match a:\n",
    "    case 0:\n",
    "        print(\"Khong\")\n",
    "    case 1:\n",
    "        print(\"Mot\")\n",
    "    case 2:\n",
    "        print(\"Hai\")\n",
    "    case 3:\n",
    "        print(\"Ba\")\n",
    "    case 4:\n",
    "        print(\"Bon\")\n",
    "    case 5:\n",
    "        print(\"Nam\")\n",
    "    case 6:\n",
    "        print(\"Sau\")\n",
    "    case 7:\n",
    "        print(\"Bay\")\n",
    "    case 8:\n",
    "        print(\"Tam\")\n",
    "    case 9:\n",
    "        print(\"Chin\")"
   ]
  },
  {
   "cell_type": "code",
   "execution_count": 19,
   "id": "994e75b5-fd6a-4c60-a700-ca1f8cd258eb",
   "metadata": {},
   "outputs": [
    {
     "name": "stdin",
     "output_type": "stream",
     "text": [
      "Nhap diem: 4\n"
     ]
    },
    {
     "name": "stdout",
     "output_type": "stream",
     "text": [
      "Qua mon\n"
     ]
    }
   ],
   "source": [
    "a = float(input(\"Nhap diem:\"))\n",
    "match a:\n",
    "    case n if n<4:\n",
    "        print(\"Hoc lai\")\n",
    "    case n if n>=4:\n",
    "        print(\"Qua mon\")"
   ]
  },
  {
   "cell_type": "code",
   "execution_count": 20,
   "id": "d8f1656a-61c3-4e9f-bd55-ca8cdc72514c",
   "metadata": {},
   "outputs": [
    {
     "name": "stdin",
     "output_type": "stream",
     "text": [
      "Nhap nam sinh: 2008\n"
     ]
    },
    {
     "name": "stdout",
     "output_type": "stream",
     "text": [
      "Khong du 18 tuoi\n"
     ]
    }
   ],
   "source": [
    "a = int(input(\"Nhap nam sinh:\"))\n",
    "if 2025-a>=18:\n",
    "    print(\"Du 18 tuoi\")\n",
    "else:\n",
    "    print(\"Khong du 18 tuoi\")"
   ]
  },
  {
   "cell_type": "code",
   "execution_count": null,
   "id": "2358d249-237b-47b2-a0f7-5edc8bb2997c",
   "metadata": {},
   "outputs": [],
   "source": []
  }
 ],
 "metadata": {
  "kernelspec": {
   "display_name": "Python 3 (ipykernel)",
   "language": "python",
   "name": "python3"
  },
  "language_info": {
   "codemirror_mode": {
    "name": "ipython",
    "version": 3
   },
   "file_extension": ".py",
   "mimetype": "text/x-python",
   "name": "python",
   "nbconvert_exporter": "python",
   "pygments_lexer": "ipython3",
   "version": "3.13.7"
  }
 },
 "nbformat": 4,
 "nbformat_minor": 5
}

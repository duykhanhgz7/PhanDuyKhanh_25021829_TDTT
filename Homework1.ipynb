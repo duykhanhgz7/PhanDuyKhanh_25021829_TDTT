{
 "cells": [
  {
   "cell_type": "code",
   "execution_count": 2,
   "id": "7e6f95e2-d6e2-48d2-90b7-a8e3150bf569",
   "metadata": {},
   "outputs": [
    {
     "name": "stdin",
     "output_type": "stream",
     "text": [
      "Nhap mot so nguyen:  10\n"
     ]
    },
    {
     "name": "stdout",
     "output_type": "stream",
     "text": [
      "Gap doi cua so da cho la:  20\n"
     ]
    }
   ],
   "source": [
    "n = input(\"Nhap mot so nguyen: \")\n",
    "n = int(n)\n",
    "print(\"Gap doi cua so da cho la: \", n*2)"
   ]
  },
  {
   "cell_type": "code",
   "execution_count": 13,
   "id": "cdd0b778-f9ba-4963-aede-12bd515ade37",
   "metadata": {},
   "outputs": [
    {
     "name": "stdin",
     "output_type": "stream",
     "text": [
      "Chieu rong cua manh dat la:  2\n",
      "Chieu dai cua manh dat la:  6\n"
     ]
    },
    {
     "name": "stdout",
     "output_type": "stream",
     "text": [
      "Dien tich ca khu dat la:  12\n",
      "Dien tich khu vui choi la:  3.14\n",
      "Dien tich trong cay la:  8.86\n"
     ]
    }
   ],
   "source": [
    "a = input(\"Chieu rong cua manh dat la: \")\n",
    "a = int(a)\n",
    "b = input(\"Chieu dai cua manh dat la: \")\n",
    "b = int(b)\n",
    "if a > b:\n",
    "    print(\"Khong hop le\")\n",
    "else:\n",
    "    print(\"Dien tich ca khu dat la: \", a*b)\n",
    "    print(\"Dien tich khu vui choi la: \", ((a/2)**2)*3.14)\n",
    "    print(\"Dien tich trong cay la: \", a*b-(((a/2)**2)*3.14))\n",
    "    \n",
    "\n",
    "          "
   ]
  },
  {
   "cell_type": "code",
   "execution_count": null,
   "id": "637d3464-0fe3-42a4-9739-376e723bc5d0",
   "metadata": {},
   "outputs": [],
   "source": []
  }
 ],
 "metadata": {
  "kernelspec": {
   "display_name": "Python 3 (ipykernel)",
   "language": "python",
   "name": "python3"
  },
  "language_info": {
   "codemirror_mode": {
    "name": "ipython",
    "version": 3
   },
   "file_extension": ".py",
   "mimetype": "text/x-python",
   "name": "python",
   "nbconvert_exporter": "python",
   "pygments_lexer": "ipython3",
   "version": "3.13.7"
  }
 },
 "nbformat": 4,
 "nbformat_minor": 5
}

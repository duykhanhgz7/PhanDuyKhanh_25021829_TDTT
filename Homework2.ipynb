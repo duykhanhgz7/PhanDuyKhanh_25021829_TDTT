{
 "cells": [
  {
   "cell_type": "code",
   "execution_count": 3,
   "id": "8ec9b4c7-16f2-4236-b24b-aac9ea9eda47",
   "metadata": {},
   "outputs": [
    {
     "name": "stdin",
     "output_type": "stream",
     "text": [
      "Nhap vao chieu rong: 4\n",
      "Nhap vao chieu dai: 5\n"
     ]
    },
    {
     "name": "stdout",
     "output_type": "stream",
     "text": [
      "Dien tich:  20.0\n",
      "Chu vi:  18.0\n"
     ]
    }
   ],
   "source": [
    "a = float(input(\"Nhap vao chieu rong:\"))\n",
    "b = float(input(\"Nhap vao chieu dai:\"))\n",
    "s = a*b\n",
    "p = (a+b)*2\n",
    "print(\"Dien tich: \", s)\n",
    "print(\"Chu vi: \", p)"
   ]
  },
  {
   "cell_type": "code",
   "execution_count": 4,
   "id": "3cc26482-524c-4d62-be2d-7882dae17a8a",
   "metadata": {},
   "outputs": [
    {
     "name": "stdin",
     "output_type": "stream",
     "text": [
      "Nhap vao ban kinh: 3\n"
     ]
    },
    {
     "name": "stdout",
     "output_type": "stream",
     "text": [
      "Dien tich:  28.26\n",
      "Chu vi:  18.84\n"
     ]
    }
   ],
   "source": [
    "r = float(input(\"Nhap vao ban kinh:\"))\n",
    "s = 3.14 * (r**2)\n",
    "p = 2*r*3.14\n",
    "print(\"Dien tich: \", s)\n",
    "print(\"Chu vi: \", p)"
   ]
  },
  {
   "cell_type": "code",
   "execution_count": 30,
   "id": "82fac44a-21bb-451b-abca-ad47393f9867",
   "metadata": {},
   "outputs": [
    {
     "name": "stdin",
     "output_type": "stream",
     "text": [
      "Nhap vao 3 so bat ky:  4 5 4\n"
     ]
    },
    {
     "name": "stdout",
     "output_type": "stream",
     "text": [
      "Tam giac can\n"
     ]
    }
   ],
   "source": [
    "canh = input(\"Nhap vao 3 so bat ky: \")\n",
    "a, b, c = map(float, canh.split())\n",
    "if a+b>c and a+c>b and b+c>a:\n",
    "    if a == b or a == c or b == c:\n",
    "        if a == b == c:\n",
    "            print(\"Tam giac deu\")\n",
    "        elif a**2 == b**2 + c**2 or b**2 == a**2 + c**2 or c**2 == a**2 + b**2:\n",
    "            print(\"Tam giac vuong can\")\n",
    "        else:\n",
    "            print(\"Tam giac can\")\n",
    "    if a != b and b != c and a != c:\n",
    "        if a**2 == b**2 + c**2 or b**2 == a**2 + c**2 or c**2 == a**2 + b**2:\n",
    "            print(\"Tam giac vuong\")\n",
    "        else:\n",
    "            print(\"Tam giac thuong\")\n",
    "else:\n",
    "    print(\"Khong phai la 3 canh cua mot tam giac\")"
   ]
  },
  {
   "cell_type": "code",
   "execution_count": 35,
   "id": "45b2de7e-6166-4d24-92b0-bb493f6a8cac",
   "metadata": {},
   "outputs": [
    {
     "name": "stdout",
     "output_type": "stream",
     "text": [
      "ax + b = 0\n"
     ]
    },
    {
     "name": "stdin",
     "output_type": "stream",
     "text": [
      "Nhap a: 2\n",
      "Nhap b: 4\n"
     ]
    },
    {
     "name": "stdout",
     "output_type": "stream",
     "text": [
      "x = -2\n"
     ]
    }
   ],
   "source": [
    "print(\"ax + b = 0\")\n",
    "a = float(input(\"Nhap a:\"))\n",
    "b = float(input(\"Nhap b:\"))\n",
    "# 0 = ax + b\n",
    "x = -b/a\n",
    "if a == 0:\n",
    "    print(\"Nhap a khac 0\")\n",
    "else:\n",
    "    print(\"x =\", int(x))\n"
   ]
  },
  {
   "cell_type": "code",
   "execution_count": 42,
   "id": "01ee8b21-29a0-4665-bf6a-c110b53ff964",
   "metadata": {},
   "outputs": [
    {
     "name": "stdout",
     "output_type": "stream",
     "text": [
      "ax^2 + bx + c = 0\n"
     ]
    },
    {
     "name": "stdin",
     "output_type": "stream",
     "text": [
      "Nhap a: 1\n",
      "Nhap b: 2\n",
      "Nhap c: 1\n"
     ]
    },
    {
     "name": "stdout",
     "output_type": "stream",
     "text": [
      "x = -1.0\n"
     ]
    }
   ],
   "source": [
    "print(\"ax^2 + bx + c = 0\")\n",
    "a = float(input(\"Nhap a:\"))\n",
    "b = float(input(\"Nhap b:\"))\n",
    "c = float(input(\"Nhap c:\"))\n",
    "delta = b**2 - 4*a*c\n",
    "x1 = 0\n",
    "x2 = 0\n",
    "if delta > 0:\n",
    "    x1 = (-b + delta**(1/2)) / (2*a)\n",
    "    x2 = (-b - delta**(1/2)) / (2*a)\n",
    "    print(\"Tap nghiem: {\",x1,\",\", x2, \"}\")\n",
    "elif delta == 0:\n",
    "    x = -b/(2*a)\n",
    "    print(\"x =\", x)\n",
    "else:\n",
    "    print(\"Vo ngiem\")\n"
   ]
  },
  {
   "cell_type": "code",
   "execution_count": 50,
   "id": "1a752e45-4d56-496d-bb4c-0bac6ac38d13",
   "metadata": {},
   "outputs": [
    {
     "name": "stdin",
     "output_type": "stream",
     "text": [
      "Nhap cac so a b c d theo thu tu: 3 3 3 100\n"
     ]
    },
    {
     "name": "stdout",
     "output_type": "stream",
     "text": [
      "100.0\n"
     ]
    }
   ],
   "source": [
    "dayso = input(\"Nhap cac so a b c d theo thu tu:\")\n",
    "a, b, c, d = map(float, dayso.split())\n",
    "dayso = [a, b, c, d]\n",
    "x = 0\n",
    "for i in dayso:\n",
    "    if x < i:\n",
    "        x = i\n",
    "print(x)"
   ]
  },
  {
   "cell_type": "code",
   "execution_count": 51,
   "id": "561e50d2-a24e-4bc9-8a51-ff46823020b3",
   "metadata": {},
   "outputs": [
    {
     "name": "stdin",
     "output_type": "stream",
     "text": [
      "Nhap cac so a b c d theo thu tu: 2 0 -1 -100\n"
     ]
    },
    {
     "name": "stdout",
     "output_type": "stream",
     "text": [
      "-100.0\n"
     ]
    }
   ],
   "source": [
    "dayso = input(\"Nhap cac so a b c d theo thu tu:\")\n",
    "a, b, c, d = map(float, dayso.split())\n",
    "dayso = [a, b, c, d]\n",
    "x = 0\n",
    "for i in dayso:\n",
    "    if x > i:\n",
    "        x = i\n",
    "print(x)"
   ]
  },
  {
   "cell_type": "code",
   "execution_count": 65,
   "id": "dc640d05-ed70-443c-bed4-0a7424b69781",
   "metadata": {},
   "outputs": [
    {
     "name": "stdout",
     "output_type": "stream",
     "text": [
      "ax + by = m \n",
      "cx + dy = n\n"
     ]
    },
    {
     "name": "stdin",
     "output_type": "stream",
     "text": [
      "Nhap lan luot cac so a b c d m n: 1 2 4 8 6 9\n"
     ]
    },
    {
     "name": "stdout",
     "output_type": "stream",
     "text": [
      "Hệ vô nghiệm hoặc vô số nghiệm\n"
     ]
    }
   ],
   "source": [
    "print(\"ax + by = m \\ncx + dy = n\")\n",
    "dayso = input(\"Nhap lan luot cac so a b c d m n:\")\n",
    "a, b, c, d, m, n = map(float, dayso.split())\n",
    "\n",
    "D = a*d - b*c  # định thức\n",
    "\n",
    "if D == 0:\n",
    "    print(\"Hệ vô nghiệm hoặc vô số nghiệm\")\n",
    "else:\n",
    "    x = (m*d - b*n) / D\n",
    "    y = (a*n - m*c) / D\n",
    "    print(f\"x = {x}, y = {y}\")\n"
   ]
  },
  {
   "cell_type": "code",
   "execution_count": 67,
   "id": "6ade8c99-f656-4b94-9142-a3a68976d2dd",
   "metadata": {},
   "outputs": [
    {
     "name": "stdin",
     "output_type": "stream",
     "text": [
      "Thoi gian lam viec (s): 100\n"
     ]
    },
    {
     "name": "stdout",
     "output_type": "stream",
     "text": [
      "0 h 1 mins 40 s\n"
     ]
    }
   ],
   "source": [
    "# bai 9\n",
    "time = int(input(\"Thoi gian lam viec (s):\"))\n",
    "gio = time // 3600\n",
    "phut = time // 60\n",
    "giay = time - gio*3600 - phut*60\n",
    "print(gio, \"h\", phut, \"mins\", giay, \"s\")"
   ]
  },
  {
   "cell_type": "code",
   "execution_count": 68,
   "id": "dd1e2202-f184-4487-8ac0-79b3d7823a10",
   "metadata": {},
   "outputs": [
    {
     "name": "stdin",
     "output_type": "stream",
     "text": [
      "Nhap tam duong tron: 1 2\n",
      "Nhap ban kinh: 4\n",
      "Nhap A: 5 6\n"
     ]
    },
    {
     "name": "stdout",
     "output_type": "stream",
     "text": [
      "A khong thuoc duong tron\n"
     ]
    }
   ],
   "source": [
    "# bai 10\n",
    "I = input(\"Nhap tam duong tron:\")\n",
    "R = float(input(\"Nhap ban kinh:\"))\n",
    "a, b = map(float, I.split())\n",
    "A = input(\"Nhap A:\")\n",
    "c, d = map(float, A.split())\n",
    "\n",
    "IA = ((a - c)**2 + (b - d)**2)**(1/2)\n",
    "if IA <= R:\n",
    "    print(\"A thuoc duong tron\")\n",
    "else:\n",
    "    print(\"A khong thuoc duong tron\")\n",
    "    "
   ]
  },
  {
   "cell_type": "code",
   "execution_count": 71,
   "id": "1148e2b7-db0b-4a44-a00d-4e9db0eeb3ca",
   "metadata": {},
   "outputs": [
    {
     "name": "stdin",
     "output_type": "stream",
     "text": [
      "Nhap so x: 2\n",
      "Nhap so y: 7\n"
     ]
    },
    {
     "name": "stdout",
     "output_type": "stream",
     "text": [
      "128.0\n"
     ]
    }
   ],
   "source": [
    "# bai 11\n",
    "x = float(input(\"Nhap so x:\"))\n",
    "y = float(input(\"Nhap so y:\"))\n",
    "if x < 0 and 0 < y < 1:\n",
    "    print(\"So am khong co can bac chan\")\n",
    "else:\n",
    "    a = x**y\n",
    "    print(a)"
   ]
  }
 ],
 "metadata": {
  "kernelspec": {
   "display_name": "Python 3 (ipykernel)",
   "language": "python",
   "name": "python3"
  },
  "language_info": {
   "codemirror_mode": {
    "name": "ipython",
    "version": 3
   },
   "file_extension": ".py",
   "mimetype": "text/x-python",
   "name": "python",
   "nbconvert_exporter": "python",
   "pygments_lexer": "ipython3",
   "version": "3.13.7"
  }
 },
 "nbformat": 4,
 "nbformat_minor": 5
}

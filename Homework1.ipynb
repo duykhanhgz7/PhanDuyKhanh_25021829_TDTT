{
 "cells": [
  {
   "cell_type": "code",
   "execution_count": 1,
   "id": "7e6f95e2-d6e2-48d2-90b7-a8e3150bf569",
   "metadata": {},
   "outputs": [
    {
     "name": "stdin",
     "output_type": "stream",
     "text": [
      "Nhap mot so nguyen:  3\n"
     ]
    },
    {
     "name": "stdout",
     "output_type": "stream",
     "text": [
      "6\n"
     ]
    }
   ],
   "source": [
    "n = int(input(\"Nhap mot so nguyen: \"))\n",
    "print(n*2)"
   ]
  },
  {
   "cell_type": "code",
   "execution_count": 2,
   "id": "cdd0b778-f9ba-4963-aede-12bd515ade37",
   "metadata": {},
   "outputs": [
    {
     "name": "stdin",
     "output_type": "stream",
     "text": [
      "Chieu rong cua manh dat la:  3\n",
      "Chieu dai cua manh dat la:  5\n"
     ]
    },
    {
     "name": "stdout",
     "output_type": "stream",
     "text": [
      "Dien tich trong cay:  7.93\n"
     ]
    }
   ],
   "source": [
    "a = float(input(\"Chieu rong cua manh dat la: \"))\n",
    "b = float(input(\"Chieu dai cua manh dat la: \"))\n",
    "s = a*b - (a/2)**2*3.14\n",
    "print(\"Dien tich trong cay: \", round(s, 2))"
   ]
  },
  {
   "cell_type": "code",
   "execution_count": 6,
   "id": "637d3464-0fe3-42a4-9739-376e723bc5d0",
   "metadata": {},
   "outputs": [
    {
     "name": "stdin",
     "output_type": "stream",
     "text": [
      "Nhap mot ki tu:  K\n"
     ]
    },
    {
     "name": "stdout",
     "output_type": "stream",
     "text": [
      "k\n"
     ]
    }
   ],
   "source": [
    "c = input(\"Nhap mot ki tu: \")\n",
    "if ord(c) == ord(c.upper()):\n",
    "    print(c.lower())\n",
    "else:\n",
    "    print(c.upper())"
   ]
  },
  {
   "cell_type": "code",
   "execution_count": 16,
   "id": "7572edb6-f55d-49bc-b7b5-ed67a709ad21",
   "metadata": {},
   "outputs": [
    {
     "name": "stdin",
     "output_type": "stream",
     "text": [
      "Nhap mot ki tu:  Q\n"
     ]
    },
    {
     "name": "stdout",
     "output_type": "stream",
     "text": [
      "{c} la ki tu alphabet\n"
     ]
    }
   ],
   "source": [
    "c = input(\"Nhap mot ki tu: \")\n",
    "if ord(c) == ord(c.upper()) or ord(c) == ord(c.lower()):\n",
    "    if ord(c) == ord(c.upper()) == ord(c.lower()):\n",
    "        print(\"{c} khong phai la ki tu alphabet\")\n",
    "    else:\n",
    "        print(\"{c} la ki tu alphabet\")\n",
    "else:\n",
    "    print(\"{c} khong phai la ki tu alphabet\")"
   ]
  },
  {
   "cell_type": "code",
   "execution_count": null,
   "id": "6515cba1-3eeb-423b-9d7e-3618c5d2099d",
   "metadata": {},
   "outputs": [],
   "source": []
  }
 ],
 "metadata": {
  "kernelspec": {
   "display_name": "Python 3 (ipykernel)",
   "language": "python",
   "name": "python3"
  },
  "language_info": {
   "codemirror_mode": {
    "name": "ipython",
    "version": 3
   },
   "file_extension": ".py",
   "mimetype": "text/x-python",
   "name": "python",
   "nbconvert_exporter": "python",
   "pygments_lexer": "ipython3",
   "version": "3.13.7"
  }
 },
 "nbformat": 4,
 "nbformat_minor": 5
}

{
 "cells": [
  {
   "cell_type": "code",
   "execution_count": 7,
   "id": "98613ba6-c7ec-4c22-942a-cd6768e68f2e",
   "metadata": {},
   "outputs": [
    {
     "name": "stdout",
     "output_type": "stream",
     "text": [
      "6\n",
      "5\n"
     ]
    }
   ],
   "source": [
    "a = 5\n",
    "b = 6\n",
    "a = a ^ b\n",
    "b = a ^ b\n",
    "a = a ^ b\n",
    "print(a)\n",
    "print(b)"
   ]
  },
  {
   "cell_type": "code",
   "execution_count": 13,
   "id": "af3e0491-24b0-4015-9451-4515b251b2d9",
   "metadata": {},
   "outputs": [
    {
     "name": "stdin",
     "output_type": "stream",
     "text": [
      "Nhap n: 16\n"
     ]
    },
    {
     "name": "stdout",
     "output_type": "stream",
     "text": [
      "16 la luy thua cua 2\n"
     ]
    }
   ],
   "source": [
    "n = int(input(\"Nhap n:\"))\n",
    "if n & (n - 1) == 0:\n",
    "    print(n, \"la luy thua cua 2\")\n",
    "else:\n",
    "    print(n, \"khong la luy thua cua 2\")"
   ]
  },
  {
   "cell_type": "code",
   "execution_count": 23,
   "id": "e0971066-4223-4a62-94dc-8007c012a33b",
   "metadata": {},
   "outputs": [
    {
     "name": "stdin",
     "output_type": "stream",
     "text": [
      " 3\n",
      " 4\n"
     ]
    },
    {
     "name": "stdout",
     "output_type": "stream",
     "text": [
      "0.0\n"
     ]
    }
   ],
   "source": [
    "# W3A4\n",
    "m = float(input())\n",
    "n = float(input())\n",
    "a = m // n\n",
    "print(a)"
   ]
  },
  {
   "cell_type": "code",
   "execution_count": 22,
   "id": "c2d1ef20-998a-4b0a-ae96-2fad1f461b36",
   "metadata": {},
   "outputs": [
    {
     "name": "stdin",
     "output_type": "stream",
     "text": [
      " 3\n",
      " 4\n"
     ]
    },
    {
     "name": "stdout",
     "output_type": "stream",
     "text": [
      "1\n"
     ]
    }
   ],
   "source": [
    "# W3A5\n",
    "m = float(input())\n",
    "n = float(input())\n",
    "a = m // n\n",
    "if m % n > 0:\n",
    "    a = a + 1\n",
    "    print(int(a))"
   ]
  },
  {
   "cell_type": "code",
   "execution_count": 24,
   "id": "7df45a8d-8ee4-45b8-bea4-fe918205b904",
   "metadata": {},
   "outputs": [
    {
     "name": "stdin",
     "output_type": "stream",
     "text": [
      "Nhap so nguyen duong x: 1\n"
     ]
    },
    {
     "name": "stdout",
     "output_type": "stream",
     "text": [
      "Odd\n"
     ]
    }
   ],
   "source": [
    "# W3A6\n",
    "x = int(input(\"Nhap so nguyen duong x:\"))\n",
    "if x % 2 == 0:\n",
    "    print(\"Even\")\n",
    "else:\n",
    "    print(\"Odd\")"
   ]
  },
  {
   "cell_type": "code",
   "execution_count": 26,
   "id": "3160484b-6d9c-4f76-808a-d98a00ba2a4c",
   "metadata": {},
   "outputs": [
    {
     "name": "stdin",
     "output_type": "stream",
     "text": [
      "Nhap vao 2 so nguyen: -2 -4\n"
     ]
    },
    {
     "name": "stdout",
     "output_type": "stream",
     "text": [
      "Yes\n"
     ]
    }
   ],
   "source": [
    "# W3A7\n",
    "a, b = map(int, input(\"Nhap vao 2 so nguyen:\").split())\n",
    "if a < 0 and b < 0:\n",
    "    print(\"Yes\")\n",
    "else:\n",
    "    print(\"No\")"
   ]
  },
  {
   "cell_type": "code",
   "execution_count": 28,
   "id": "1f0b71d3-8010-4d6a-a108-570d8fd374c2",
   "metadata": {},
   "outputs": [
    {
     "name": "stdin",
     "output_type": "stream",
     "text": [
      "Nhap chuoi a: ljsdfjlsdjlffj\n",
      "Nhap chuoi b: ldjdsf\n"
     ]
    },
    {
     "name": "stdout",
     "output_type": "stream",
     "text": [
      "True\n"
     ]
    }
   ],
   "source": [
    "# W3A8\n",
    "a = input(\"Nhap chuoi a:\")\n",
    "b = input(\"Nhap chuoi b:\")\n",
    "if len(a) > len(b):\n",
    "    print(\"True\")\n",
    "else:\n",
    "    print(\"False\")"
   ]
  },
  {
   "cell_type": "code",
   "execution_count": 29,
   "id": "8c08e139-8b2e-41b5-af9a-7b732ca2f8ba",
   "metadata": {},
   "outputs": [
    {
     "name": "stdin",
     "output_type": "stream",
     "text": [
      "Nhap vao 3 so nguyen duong: 3 4 5\n"
     ]
    },
    {
     "name": "stdout",
     "output_type": "stream",
     "text": [
      "Yes\n"
     ]
    }
   ],
   "source": [
    "# W3A9\n",
    "a, b, c = map(float, input(\"Nhap vao 3 so nguyen duong:\").split())\n",
    "if a+b>c and a+c>b and b+c>a:\n",
    "    print(\"Yes\")\n",
    "else:\n",
    "    print(\"No\")"
   ]
  },
  {
   "cell_type": "code",
   "execution_count": 32,
   "id": "5c4715d5-108a-4568-ad0f-368d6d1efdd0",
   "metadata": {},
   "outputs": [
    {
     "name": "stdin",
     "output_type": "stream",
     "text": [
      "Nhap vao 4 so nguyen: 3 4 5 29\n"
     ]
    },
    {
     "name": "stdout",
     "output_type": "stream",
     "text": [
      "29\n"
     ]
    }
   ],
   "source": [
    "# W3A10\n",
    "dayso = input(\"Nhap vao 4 so nguyen:\")\n",
    "dayso = list(map(int, dayso.split()))\n",
    "for i in dayso:\n",
    "    x = 0\n",
    "    if x < i:\n",
    "        x = i\n",
    "print(x)"
   ]
  },
  {
   "cell_type": "code",
   "execution_count": 33,
   "id": "98113c6b-060d-4d21-a8d4-fdeae5e3f3b8",
   "metadata": {},
   "outputs": [
    {
     "name": "stdin",
     "output_type": "stream",
     "text": [
      "Nhap vao 3 so nguyen duong:  3 4 5\n"
     ]
    },
    {
     "name": "stdout",
     "output_type": "stream",
     "text": [
      "Tam giac thuong\n"
     ]
    }
   ],
   "source": [
    "# W3A11\n",
    "canh = input(\"Nhap vao 3 so nguyen duong: \")\n",
    "a, b, c = map(float, canh.split())\n",
    "if a+b>c and a+c>b and b+c>a:\n",
    "    if a == b or a == c or b == c:\n",
    "        if a == b == c:\n",
    "            print(\"Tam giac deu\")\n",
    "        else:\n",
    "            print(\"Tam giac can\")\n",
    "    else:\n",
    "            print(\"Tam giac thuong\")\n",
    "else:\n",
    "    print(\"Khong phai tam giac\")"
   ]
  },
  {
   "cell_type": "code",
   "execution_count": 38,
   "id": "2d7cc06b-5312-4cc7-8cf2-d80d8efcdb4f",
   "metadata": {},
   "outputs": [
    {
     "name": "stdin",
     "output_type": "stream",
     "text": [
      "Nhap n: 1001\n"
     ]
    },
    {
     "name": "stdout",
     "output_type": "stream",
     "text": [
      "No\n"
     ]
    }
   ],
   "source": [
    "# W3A12\n",
    "n = int(input(\"Nhap n:\"))\n",
    "if n % 4 == 0 and n % 100 != 0:\n",
    "    print(\"Yes\")\n",
    "elif n % 400 == 0:\n",
    "    print(\"Yes\")\n",
    "else:\n",
    "    print(\"No\")\n",
    "        \n",
    "    \n",
    "        \n"
   ]
  },
  {
   "cell_type": "code",
   "execution_count": 39,
   "id": "6cee1bb3-f594-49a7-a764-d59263a8a787",
   "metadata": {},
   "outputs": [
    {
     "name": "stdin",
     "output_type": "stream",
     "text": [
      "Nhap so a: 2\n",
      "Nhap so b: 4\n"
     ]
    },
    {
     "name": "stdout",
     "output_type": "stream",
     "text": [
      "-2.0\n"
     ]
    }
   ],
   "source": [
    "# W3A14\n",
    "a = float(input(\"Nhap so a:\"))\n",
    "b = float(input(\"Nhap so b:\"))\n",
    "if a != 0:\n",
    "    x = -b/a\n",
    "    print(round(x, 2))\n",
    "else:\n",
    "    if b != 0:\n",
    "        print(\"Vo nghiem\")\n",
    "    else:\n",
    "        print(\"Vo so nghiem\")"
   ]
  },
  {
   "cell_type": "code",
   "execution_count": 42,
   "id": "157e05af-7fbc-4d87-9dbe-816ac3a0a724",
   "metadata": {},
   "outputs": [
    {
     "name": "stdin",
     "output_type": "stream",
     "text": [
      "Nhap diem trung binh: 7\n"
     ]
    },
    {
     "name": "stdout",
     "output_type": "stream",
     "text": [
      "Kha\n"
     ]
    }
   ],
   "source": [
    "# W3A15\n",
    "dtb = float(input(\"Nhap diem trung binh:\"))\n",
    "if dtb >= 8.0:\n",
    "    print(\"Gioi\")\n",
    "elif dtb >= 6.5:\n",
    "    print(\"Kha\")\n",
    "elif dtb >= 5.0:\n",
    "    print(\"Trung binh\")\n",
    "else:\n",
    "    print(\"Yeu\")"
   ]
  },
  {
   "cell_type": "code",
   "execution_count": 44,
   "id": "cbe9d238-71db-4134-9ffd-9069df98d79d",
   "metadata": {},
   "outputs": [
    {
     "name": "stdin",
     "output_type": "stream",
     "text": [
      "Nhap mot so thuc: 3.2\n"
     ]
    },
    {
     "name": "stdout",
     "output_type": "stream",
     "text": [
      "4 3 3\n"
     ]
    }
   ],
   "source": [
    "# W3A16\n",
    "n = float(input(\"Nhap mot so thuc:\"))\n",
    "a = n - int(n)\n",
    "if a > 0:\n",
    "    if a < 0.5:\n",
    "        print(int(n) + 1, int(n), int(n))\n",
    "    else:\n",
    "        print(int(n) + 1, int(n), int(n) + 1)\n",
    "else:\n",
    "    print(n, n, n)"
   ]
  },
  {
   "cell_type": "code",
   "execution_count": 46,
   "id": "96b00ac2-6b26-426d-b313-6a7c47b9a0a5",
   "metadata": {},
   "outputs": [
    {
     "name": "stdin",
     "output_type": "stream",
     "text": [
      "Nhap a, b, c, d: 0.1 0.01 0.0001 0.00000001\n"
     ]
    },
    {
     "name": "stdout",
     "output_type": "stream",
     "text": [
      "Cong boi khong hop le\n"
     ]
    }
   ],
   "source": [
    "# W3A17\n",
    "lst = input(\"Nhap a, b, c, d:\")\n",
    "a, b, c, d = map(float, lst.split())\n",
    "congboi = b / a\n",
    "if congboi == int(congboi):\n",
    "    if b * congboi == c and c * congboi == d:\n",
    "        print(\"Cap so nhan\")\n",
    "    else:\n",
    "        print(\"Khong phai cap so nhan\")\n",
    "else:\n",
    "    print(\"Cong boi khong hop le\")"
   ]
  }
 ],
 "metadata": {
  "kernelspec": {
   "display_name": "Python 3 (ipykernel)",
   "language": "python",
   "name": "python3"
  },
  "language_info": {
   "codemirror_mode": {
    "name": "ipython",
    "version": 3
   },
   "file_extension": ".py",
   "mimetype": "text/x-python",
   "name": "python",
   "nbconvert_exporter": "python",
   "pygments_lexer": "ipython3",
   "version": "3.13.7"
  }
 },
 "nbformat": 4,
 "nbformat_minor": 5
}

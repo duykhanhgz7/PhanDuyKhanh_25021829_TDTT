{
 "cells": [
  {
   "cell_type": "code",
   "execution_count": 1,
   "id": "7e6f95e2-d6e2-48d2-90b7-a8e3150bf569",
   "metadata": {},
   "outputs": [
    {
     "name": "stdin",
     "output_type": "stream",
     "text": [
      "Nhap mot so nguyen:  3\n"
     ]
    },
    {
     "name": "stdout",
     "output_type": "stream",
     "text": [
      "6\n"
     ]
    }
   ],
   "source": [
    "n = int(input(\"Nhap mot so nguyen: \"))\n",
    "print(n*2)"
   ]
  },
  {
   "cell_type": "code",
   "execution_count": 2,
   "id": "cdd0b778-f9ba-4963-aede-12bd515ade37",
   "metadata": {},
   "outputs": [
    {
     "name": "stdin",
     "output_type": "stream",
     "text": [
      "Chieu rong cua manh dat la:  3\n",
      "Chieu dai cua manh dat la:  5\n"
     ]
    },
    {
     "name": "stdout",
     "output_type": "stream",
     "text": [
      "Dien tich trong cay:  7.93\n"
     ]
    }
   ],
   "source": [
    "a = float(input(\"Chieu rong cua manh dat la: \"))\n",
    "b = float(input(\"Chieu dai cua manh dat la: \"))\n",
    "s = a*b - (a/2)**2*3.14\n",
    "print(\"Dien tich trong cay: \", round(s, 2))"
   ]
  },
  {
   "cell_type": "code",
   "execution_count": 6,
   "id": "637d3464-0fe3-42a4-9739-376e723bc5d0",
   "metadata": {},
   "outputs": [
    {
     "name": "stdin",
     "output_type": "stream",
     "text": [
      "Nhap mot ki tu:  K\n"
     ]
    },
    {
     "name": "stdout",
     "output_type": "stream",
     "text": [
      "k\n"
     ]
    }
   ],
   "source": [
    "c = input(\"Nhap mot ki tu: \")\n",
    "if ord(c) == ord(c.upper()):\n",
    "    print(c.lower())\n",
    "else:\n",
    "    print(c.upper())"
   ]
  },
  {
   "cell_type": "code",
   "execution_count": 2,
   "id": "7572edb6-f55d-49bc-b7b5-ed67a709ad21",
   "metadata": {},
   "outputs": [
    {
     "name": "stdin",
     "output_type": "stream",
     "text": [
      "Nhap mot ki tu:  2\n"
     ]
    },
    {
     "name": "stdout",
     "output_type": "stream",
     "text": [
      "2 khong phai la ki tu alphabet\n"
     ]
    }
   ],
   "source": [
    "c = input(\"Nhap mot ki tu: \")\n",
    "if ord(c) == ord(c.upper()) or ord(c) == ord(c.lower()):\n",
    "    if ord(c) == ord(c.upper()) == ord(c.lower()):\n",
    "        print(c, \"khong phai la ki tu alphabet\")\n",
    "    else:\n",
    "        print(c, \"la ki tu alphabet\")\n",
    "else:\n",
    "    print(c, \"khong phai la ki tu alphabet\")"
   ]
  },
  {
   "cell_type": "code",
   "execution_count": 6,
   "id": "6515cba1-3eeb-423b-9d7e-3618c5d2099d",
   "metadata": {},
   "outputs": [
    {
     "name": "stdin",
     "output_type": "stream",
     "text": [
      "Nhap mot chu cai in hoa:  D\n"
     ]
    },
    {
     "name": "stdout",
     "output_type": "stream",
     "text": [
      "d\n",
      "c\n"
     ]
    }
   ],
   "source": [
    "q = input(\"Nhap mot chu cai in hoa: \")\n",
    "print(q.lower())\n",
    "p = ord(q) - 1\n",
    "if q == 'A':\n",
    "    print(\"Khong co chu lien truoc\")\n",
    "else: \n",
    "    print(chr(p).lower())"
   ]
  },
  {
   "cell_type": "code",
   "execution_count": 8,
   "id": "a2672888-4cbb-4aa5-961a-c199b63835c4",
   "metadata": {},
   "outputs": [
    {
     "name": "stdin",
     "output_type": "stream",
     "text": [
      "Nhap lan luot 3 so a, b, c cach nhau khoang cach:  3 4 5\n"
     ]
    },
    {
     "name": "stdout",
     "output_type": "stream",
     "text": [
      "6.0\n"
     ]
    }
   ],
   "source": [
    "k = input(\"Nhap lan luot 3 so a, b, c cach nhau khoang cach: \")\n",
    "a, b, c = map(float, k.split())\n",
    "if a+b>c and a+c>b and b+c>a:\n",
    "    p = (a+b+c)/2\n",
    "    s = (p*(p-a)*(p-b)*(p-c))**(1/2)\n",
    "    print(round(s, 1))\n",
    "else: \n",
    "    print(\"Khong phai 3 canh tam giac\")"
   ]
  },
  {
   "cell_type": "code",
   "execution_count": 10,
   "id": "1a2ec815-8fed-427c-93b9-7ad7bf9cb557",
   "metadata": {},
   "outputs": [
    {
     "name": "stdin",
     "output_type": "stream",
     "text": [
      "Nhap mot chuoi ki tu dai >= 20 ki tu:  phanduykhanh\n"
     ]
    },
    {
     "name": "stdout",
     "output_type": "stream",
     "text": [
      "d h\n"
     ]
    }
   ],
   "source": [
    "s = input(\"Nhap mot chuoi ki tu dai >= 20 ki tu: \")\n",
    "print(s[4], s[8])"
   ]
  },
  {
   "cell_type": "code",
   "execution_count": 31,
   "id": "4f2fafe5-8942-4d85-b1ab-192781785c53",
   "metadata": {},
   "outputs": [
    {
     "name": "stdin",
     "output_type": "stream",
     "text": [
      "Ten chu ho la: khanh\n",
      "Chi so thang truoc: 2000\n",
      "Chi so thang nay: 2586\n"
     ]
    },
    {
     "name": "stdout",
     "output_type": "stream",
     "text": [
      "Ho va ten: khanh\n",
      "Tien phai tra la: 1855505\n"
     ]
    }
   ],
   "source": [
    "ten = input(\"Ten chu ho la:\")\n",
    "trc = int(input(\"Chi so thang truoc:\"))\n",
    "nay = int(input(\"Chi so thang nay:\"))\n",
    "so = nay - trc\n",
    "print(\"Ho va ten:\", ten)\n",
    "if so > 400:\n",
    "    tien = (so-400)*3460 + 99200 + 102500 + 238000 + 299800 + 335000\n",
    "else:\n",
    "    if so < 301:\n",
    "        if so < 201:\n",
    "            if so < 101:\n",
    "                if so < 51:\n",
    "                    tien = so*1984\n",
    "                else:\n",
    "                    tien = 99200 + (so - 50)*2050\n",
    "            else:\n",
    "                tien = (so-100)*2380 + 99200 + 102500\n",
    "        else:\n",
    "            tien = (so-200)*2998 + 99200 + 102500 + 238000\n",
    "    else:\n",
    "        tien = (so-300)*3350 + 99200 + 102500 + 238000 + 299800\n",
    "thue = tien*8/100\n",
    "thue = round(thue)\n",
    "tien = thue + tien\n",
    "print(\"Tien phai tra la:\", tien)"
   ]
  },
  {
   "cell_type": "code",
   "execution_count": null,
   "id": "9c63f281-319e-4458-87d4-a9d93fd0176e",
   "metadata": {},
   "outputs": [],
   "source": []
  }
 ],
 "metadata": {
  "kernelspec": {
   "display_name": "Python 3 (ipykernel)",
   "language": "python",
   "name": "python3"
  },
  "language_info": {
   "codemirror_mode": {
    "name": "ipython",
    "version": 3
   },
   "file_extension": ".py",
   "mimetype": "text/x-python",
   "name": "python",
   "nbconvert_exporter": "python",
   "pygments_lexer": "ipython3",
   "version": "3.13.7"
  }
 },
 "nbformat": 4,
 "nbformat_minor": 5
}

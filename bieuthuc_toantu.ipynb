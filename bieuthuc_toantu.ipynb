{
 "cells": [
  {
   "cell_type": "code",
   "execution_count": 1,
   "id": "f7ef7622-8bc4-4c0e-b8a6-c4b84a9d0a88",
   "metadata": {},
   "outputs": [
    {
     "name": "stdout",
     "output_type": "stream",
     "text": [
      "hello world!\n"
     ]
    }
   ],
   "source": [
    "print(\"hello world!\")"
   ]
  },
  {
   "cell_type": "code",
   "execution_count": 3,
   "id": "d6d24a0b-0a8f-4135-8b02-938eca201d47",
   "metadata": {},
   "outputs": [
    {
     "name": "stdin",
     "output_type": "stream",
     "text": [
      "Nhap ten cua ban:  khanh\n"
     ]
    },
    {
     "name": "stdout",
     "output_type": "stream",
     "text": [
      "Hello khanh\n"
     ]
    }
   ],
   "source": [
    "ten = input(\"Nhap ten cua ban: \")\n",
    "print(\"Hello\", ten)\n"
   ]
  },
  {
   "cell_type": "code",
   "execution_count": 4,
   "id": "0a4b0e66-d9c9-4ff9-a8ce-caa3ecc299a8",
   "metadata": {},
   "outputs": [
    {
     "name": "stdin",
     "output_type": "stream",
     "text": [
      "Nhap gia tri cua a:  5\n",
      "Nhap gia tri cua b:  10\n"
     ]
    },
    {
     "name": "stdout",
     "output_type": "stream",
     "text": [
      "a + b = 15\n",
      "a - b = -5\n",
      "a * b = 50\n",
      "a / b = 0.5\n",
      "a // b = 0.5\n",
      "a % b = 5\n"
     ]
    }
   ],
   "source": [
    "a = input(\"Nhap gia tri cua a: \")\n",
    "b = input(\"Nhap gia tri cua b: \")\n",
    "a = int(a)\n",
    "b = int(b)\n",
    "print(\"a + b =\", a+b)\n",
    "print(\"a - b =\", a-b)\n",
    "print(\"a * b =\", a*b)\n",
    "print(\"a / b =\", a/b)\n",
    "print(\"a // b =\", a/b)\n",
    "print(\"a % b =\", a%b)\n"
   ]
  },
  {
   "cell_type": "code",
   "execution_count": null,
   "id": "2b1b688a-137c-4bea-b533-5d73b7c2cb8d",
   "metadata": {},
   "outputs": [],
   "source": []
  }
 ],
 "metadata": {
  "kernelspec": {
   "display_name": "Python 3 (ipykernel)",
   "language": "python",
   "name": "python3"
  },
  "language_info": {
   "codemirror_mode": {
    "name": "ipython",
    "version": 3
   },
   "file_extension": ".py",
   "mimetype": "text/x-python",
   "name": "python",
   "nbconvert_exporter": "python",
   "pygments_lexer": "ipython3",
   "version": "3.13.7"
  }
 },
 "nbformat": 4,
 "nbformat_minor": 5
}

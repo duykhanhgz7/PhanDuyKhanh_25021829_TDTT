{
 "cells": [
  {
   "cell_type": "code",
   "execution_count": 1,
   "id": "f7ef7622-8bc4-4c0e-b8a6-c4b84a9d0a88",
   "metadata": {},
   "outputs": [
    {
     "name": "stdout",
     "output_type": "stream",
     "text": [
      "hello world!\n"
     ]
    }
   ],
   "source": [
    "print(\"hello world!\")"
   ]
  },
  {
   "cell_type": "code",
   "execution_count": 34,
   "id": "d6d24a0b-0a8f-4135-8b02-938eca201d47",
   "metadata": {},
   "outputs": [
    {
     "name": "stdin",
     "output_type": "stream",
     "text": [
      "Nhap ten cua ban:  khanh\n"
     ]
    },
    {
     "name": "stdout",
     "output_type": "stream",
     "text": [
      "Hello khanh\n"
     ]
    }
   ],
   "source": [
    "ten = input(\"Nhap ten cua ban: \")\n",
    "print(\"Hello\", ten)"
   ]
  },
  {
   "cell_type": "code",
   "execution_count": 41,
   "id": "0a4b0e66-d9c9-4ff9-a8ce-caa3ecc299a8",
   "metadata": {},
   "outputs": [
    {
     "name": "stdin",
     "output_type": "stream",
     "text": [
      "Nhap so nguyen a:  3\n",
      "Nhap so nguyen b:  2\n"
     ]
    },
    {
     "name": "stdout",
     "output_type": "stream",
     "text": [
      "5 1 6 1.5 1 1\n"
     ]
    }
   ],
   "source": [
    "a = input(\"Nhap so nguyen a: \")\n",
    "b = input(\"Nhap so nguyen b: \")\n",
    "a = int(a)\n",
    "b = int(b)\n",
    "print(round(a+b, 2), round(a-b, 2), round(a*b, 2), round(a/b, 2), round(a//b, 2), round(a%b, 2))"
   ]
  },
  {
   "cell_type": "code",
   "execution_count": 33,
   "id": "2b1b688a-137c-4bea-b533-5d73b7c2cb8d",
   "metadata": {},
   "outputs": [
    {
     "name": "stdin",
     "output_type": "stream",
     "text": [
      "Nhap cac dau diem cach nhau khoang trang:  2 3 4 5 6 7\n"
     ]
    },
    {
     "name": "stdout",
     "output_type": "stream",
     "text": [
      "Diem trung binh 6 mon cua hoc sinh la:  5.2\n"
     ]
    }
   ],
   "source": [
    "s = input(\"Nhap cac dau diem cach nhau khoang trang: \")\n",
    "diem = list(map(int, s.split()))\n",
    "a1, b1, c1, a2, b2, a3 = diem\n",
    "a = a1 + b1 + c1 \n",
    "b = (a2 + b2)*2\n",
    "c = a3 * 3\n",
    "diemtb = (a + b + c)/10\n",
    "print(\"Diem trung binh 6 mon cua hoc sinh la: \", diemtb)"
   ]
  },
  {
   "cell_type": "code",
   "execution_count": 46,
   "id": "72ccdbcb-c493-4d59-8c4b-9daf9d3e5f24",
   "metadata": {},
   "outputs": [
    {
     "name": "stdin",
     "output_type": "stream",
     "text": [
      "Nhap lan luot 2 so nguyen cach nhau khoang trang:  5 4\n"
     ]
    },
    {
     "name": "stdout",
     "output_type": "stream",
     "text": [
      "625\n"
     ]
    }
   ],
   "source": [
    "s = input(\"Nhap lan luot 2 so nguyen cach nhau khoang trang: \")\n",
    "a, b = map(int, s.split())\n",
    "print(a**b)"
   ]
  },
  {
   "cell_type": "code",
   "execution_count": 50,
   "id": "972a4cb1-4706-4262-8622-384f23d9bd67",
   "metadata": {},
   "outputs": [
    {
     "name": "stdin",
     "output_type": "stream",
     "text": [
      "Hay nhap mot chu cai thuong:  y\n"
     ]
    },
    {
     "name": "stdout",
     "output_type": "stream",
     "text": [
      "ma unicode:  121\n",
      "Chu in hoa:  Y\n"
     ]
    }
   ],
   "source": [
    "c = input(\"Hay nhap mot chu cai thuong: \")\n",
    "print(\"ma unicode: \", ord(c))\n",
    "print(\"Chu in hoa: \", c.upper())"
   ]
  },
  {
   "cell_type": "code",
   "execution_count": 51,
   "id": "237d41d7-149a-4d50-a541-7c82da2bc428",
   "metadata": {},
   "outputs": [
    {
     "name": "stdout",
     "output_type": "stream",
     "text": [
      "512\n",
      "512\n"
     ]
    }
   ],
   "source": [
    "A = ((13 ** 2) * 3) + 5\n",
    "B = 13**2*3 + 5\n",
    "print(A)\n",
    "print(B)\n",
    "# phep luy thua duoc tinh truoc roi den nhan chia cong tru"
   ]
  },
  {
   "cell_type": "code",
   "execution_count": 59,
   "id": "a10e0b5d-ceb2-4e99-a5c0-461305027bf6",
   "metadata": {},
   "outputs": [
    {
     "name": "stdin",
     "output_type": "stream",
     "text": [
      "Nhiet do hom nay (theo do Celcius):  10.6\n"
     ]
    },
    {
     "name": "stdout",
     "output_type": "stream",
     "text": [
      "Nhiet do hom nay (theo do Farenhait):  51.08\n"
     ]
    }
   ],
   "source": [
    "C = float(input(\"Nhiet do hom nay (theo do Celcius): \"))\n",
    "F = 9/5*C + 32\n",
    "print(\"Nhiet do hom nay (theo do Farenhait): \", round(F, 2))"
   ]
  },
  {
   "cell_type": "code",
   "execution_count": 62,
   "id": "60de7a24-5719-41fe-9128-e485a5dadb11",
   "metadata": {},
   "outputs": [
    {
     "name": "stdin",
     "output_type": "stream",
     "text": [
      "Gia tien cua dong ho la:  2\n"
     ]
    },
    {
     "name": "stdout",
     "output_type": "stream",
     "text": [
      "Tong so tien phai tra de mua duoc chiec dong ho:  12.8 USD\n"
     ]
    }
   ],
   "source": [
    "x = float(input(\"Gia tien cua dong ho la: \"))\n",
    "vanchuyen = 10\n",
    "thue = x*40/100\n",
    "tong = x + vanchuyen + thue\n",
    "print(\"Tong so tien phai tra de mua duoc chiec dong ho: \", tong, \"USD\")"
   ]
  },
  {
   "cell_type": "code",
   "execution_count": 68,
   "id": "eb74d752-b079-4d94-91e4-d1c86e8f8071",
   "metadata": {},
   "outputs": [
    {
     "name": "stdin",
     "output_type": "stream",
     "text": [
      "Ten cua 3 nguoi co dau cach:  Khanh Linh Hong\n"
     ]
    },
    {
     "name": "stdout",
     "output_type": "stream",
     "text": [
      "Hi Hong Linh and Khanh\n"
     ]
    }
   ],
   "source": [
    "s = input(\"Ten cua 3 nguoi co dau cach: \")\n",
    "a, b, c = s.split()\n",
    "print(\"Hi\", c, b, \"and\", a)"
   ]
  },
  {
   "cell_type": "code",
   "execution_count": 69,
   "id": "c4d2c525-bbaa-4c43-92fa-5212d05d92e7",
   "metadata": {},
   "outputs": [
    {
     "name": "stdin",
     "output_type": "stream",
     "text": [
      "Nhap so gio va so phut:  2 30\n"
     ]
    },
    {
     "name": "stdout",
     "output_type": "stream",
     "text": [
      "Tuong duong: 9000 s\n"
     ]
    }
   ],
   "source": [
    "s = input(\"Nhap so gio va so phut: \")\n",
    "gio, phut = map(int, s.split())\n",
    "giay = gio*3600 + phut*60\n",
    "print(\"Tuong duong:\", giay, \"s\")"
   ]
  },
  {
   "cell_type": "code",
   "execution_count": 71,
   "id": "b9a1e924-f40b-46ed-92f4-737c02193f9d",
   "metadata": {},
   "outputs": [
    {
     "name": "stdin",
     "output_type": "stream",
     "text": [
      "Do dai canh cua khoi rubik:  3\n"
     ]
    },
    {
     "name": "stdout",
     "output_type": "stream",
     "text": [
      "So luong mieng dan can thiet de bao phu khoi rubik:  18\n"
     ]
    }
   ],
   "source": [
    "n = int(input(\"Do dai canh cua khoi rubik: \"))\n",
    "mieng_dan = n*6\n",
    "print(\"So luong mieng dan can thiet de bao phu khoi rubik: \", mieng_dan)\n"
   ]
  },
  {
   "cell_type": "code",
   "execution_count": 72,
   "id": "a1934586-cc0e-4127-b038-32f6fbfb1140",
   "metadata": {},
   "outputs": [
    {
     "name": "stdin",
     "output_type": "stream",
     "text": [
      "Nhap so nguyen duong a:  3\n",
      "Nhap so nguyen duong b:  6\n"
     ]
    },
    {
     "name": "stdout",
     "output_type": "stream",
     "text": [
      "18\n"
     ]
    }
   ],
   "source": [
    "a = int(input(\"Nhap so nguyen duong a: \"))\n",
    "b = int(input(\"Nhap so nguyen duong b: \"))\n",
    "print(a*b)\n"
   ]
  },
  {
   "cell_type": "code",
   "execution_count": 75,
   "id": "5d540854-4060-4c73-9a0e-80a8db39d339",
   "metadata": {},
   "outputs": [
    {
     "name": "stdout",
     "output_type": "stream",
     "text": [
      "10 5\n"
     ]
    }
   ],
   "source": [
    "a = 5\n",
    "b = 10\n",
    "a = a+b\n",
    "b = a-b\n",
    "a = a-b\n",
    "print(a, b)\n",
    "\n"
   ]
  },
  {
   "cell_type": "code",
   "execution_count": 77,
   "id": "9c227b22-81e5-435e-98b0-65c2ee29e874",
   "metadata": {},
   "outputs": [
    {
     "name": "stdout",
     "output_type": "stream",
     "text": [
      "Spring\n",
      "Summer\n",
      "Autumn\n",
      "Winter\n"
     ]
    }
   ],
   "source": [
    "print(\"Spring\\nSummer\\nAutumn\\nWinter\")"
   ]
  },
  {
   "cell_type": "code",
   "execution_count": 83,
   "id": "c78b333b-71fd-46b0-b239-11f1ce244fce",
   "metadata": {},
   "outputs": [
    {
     "name": "stdout",
     "output_type": "stream",
     "text": [
      "  *  \n",
      " *** \n",
      "*****\n"
     ]
    }
   ],
   "source": [
    "print(\"  *  \")\n",
    "print(\" *** \")\n",
    "print(\"*****\")\n"
   ]
  },
  {
   "cell_type": "code",
   "execution_count": 85,
   "id": "a28c994f-00f5-45fb-bd26-74b45a0198bf",
   "metadata": {},
   "outputs": [
    {
     "name": "stdout",
     "output_type": "stream",
     "text": [
      "### ##  ### ###\n",
      " #  # #  #   # \n",
      " #  # #  #   # \n",
      " #  ##   #   # \n"
     ]
    }
   ],
   "source": [
    "print(\"### ##  ### ###\")\n",
    "print(\" #  # #  #   # \")\n",
    "print(\" #  # #  #   # \")\n",
    "print(\" #  ##   #   # \")"
   ]
  },
  {
   "cell_type": "code",
   "execution_count": 86,
   "id": "3c71425f-8f44-4c04-b717-f69bedff2df7",
   "metadata": {},
   "outputs": [
    {
     "name": "stdout",
     "output_type": "stream",
     "text": [
      "Monday\n",
      "Tuesday\n",
      "Wednesday\n",
      "Thursday\n",
      "Friday\n",
      "Saturday\n",
      "Sunday\n"
     ]
    }
   ],
   "source": [
    "print(\"Monday\\nTuesday\\nWednesday\\nThursday\\nFriday\\nSaturday\\nSunday\")\n"
   ]
  },
  {
   "cell_type": "code",
   "execution_count": 89,
   "id": "9a7d2af1-23b6-4766-89d6-6b9672098a7a",
   "metadata": {},
   "outputs": [
    {
     "name": "stdout",
     "output_type": "stream",
     "text": [
      "January\n",
      "Febuary\n",
      "March\n",
      "April\n",
      "May\n",
      "June\n",
      "July\n",
      "August\n",
      "September\n",
      "October\n",
      "November\n",
      "December\n"
     ]
    }
   ],
   "source": [
    "print(\"January\\nFebuary\\nMarch\\nApril\\nMay\\nJune\\nJuly\\nAugust\\nSeptember\\nOctober\\nNovember\\nDecember\")"
   ]
  }
 ],
 "metadata": {
  "kernelspec": {
   "display_name": "Python 3 (ipykernel)",
   "language": "python",
   "name": "python3"
  },
  "language_info": {
   "codemirror_mode": {
    "name": "ipython",
    "version": 3
   },
   "file_extension": ".py",
   "mimetype": "text/x-python",
   "name": "python",
   "nbconvert_exporter": "python",
   "pygments_lexer": "ipython3",
   "version": "3.13.7"
  }
 },
 "nbformat": 4,
 "nbformat_minor": 5
}

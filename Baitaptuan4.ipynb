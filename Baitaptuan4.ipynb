{
 "cells": [
  {
   "cell_type": "code",
   "execution_count": 13,
   "id": "d9c30e89-b3a9-4b7a-85ba-b17e06c0b817",
   "metadata": {},
   "outputs": [
    {
     "name": "stdin",
     "output_type": "stream",
     "text": [
      "Nhap n: 1\n"
     ]
    },
    {
     "name": "stdout",
     "output_type": "stream",
     "text": [
      "1\n"
     ]
    }
   ],
   "source": [
    "# W4A1\n",
    "n = int(input(\"Nhap n:\"))\n",
    "tong = 0\n",
    "if n > 1000 or n < 1:\n",
    "    print(\"Nhap so nguyen duong nho hon 1000\")\n",
    "else:\n",
    "    for i in range(1, n+1):\n",
    "        tong += i\n",
    "print(tong)"
   ]
  },
  {
   "cell_type": "code",
   "execution_count": 22,
   "id": "9b9814da-53de-4bf2-9371-76cca08b512a",
   "metadata": {},
   "outputs": [
    {
     "name": "stdin",
     "output_type": "stream",
     "text": [
      "Nhap n: 6\n"
     ]
    },
    {
     "name": "stdout",
     "output_type": "stream",
     "text": [
      "6 khong la so nguyen to\n"
     ]
    }
   ],
   "source": [
    "# W4A2\n",
    "for i in range(10000):\n",
    "    n = int(input(\"Nhap n:\"))\n",
    "    if n <= 0:\n",
    "        print(\"Nhap so nguyen duong\")\n",
    "    else:\n",
    "        break\n",
    "lst = []\n",
    "for i in range(1, n + 1):\n",
    "    if n % i == 0:\n",
    "        lst.append(str(i))\n",
    "if len(lst) != 2 :\n",
    "    print(n, \"khong la so nguyen to\")\n",
    "else:\n",
    "    print(n, \"la so nguyen to\")\n",
    "    "
   ]
  },
  {
   "cell_type": "code",
   "execution_count": 29,
   "id": "ce0776cb-f31a-4c98-9da2-d359698ed29c",
   "metadata": {},
   "outputs": [
    {
     "name": "stdin",
     "output_type": "stream",
     "text": [
      "Nhap n: 5\n"
     ]
    },
    {
     "name": "stdout",
     "output_type": "stream",
     "text": [
      "120\n"
     ]
    }
   ],
   "source": [
    "# W4A3\n",
    "n = int(input(\"Nhap n:\"))\n",
    "if 0 < n < 100:\n",
    "    giaithua = 1\n",
    "    for i in range(1, n+1):\n",
    "        giaithua *= i\n",
    "    print(giaithua)\n",
    "else:\n",
    "    print(\"Nhap so nguyen lon hon 0 nho hon 100\")"
   ]
  },
  {
   "cell_type": "code",
   "execution_count": 39,
   "id": "cb094fde-26ff-4c53-a2ab-d42e3ddca947",
   "metadata": {},
   "outputs": [
    {
     "name": "stdin",
     "output_type": "stream",
     "text": [
      "Nhap so nguyen n: 100010\n"
     ]
    },
    {
     "name": "stdout",
     "output_type": "stream",
     "text": [
      "6\n"
     ]
    }
   ],
   "source": [
    "# W4A4\n",
    "n = int(input(\"Nhap so nguyen n:\"))\n",
    "n = abs(n)\n",
    "count = 0\n",
    "for i in range(1, n + 1):\n",
    "    if n // (10 ** i) > 0:\n",
    "        count += 1\n",
    "    if n // (10 ** i) == 0:\n",
    "        count += 1\n",
    "        break\n",
    "print(count)"
   ]
  },
  {
   "cell_type": "code",
   "execution_count": 42,
   "id": "7b26d649-dff5-4829-8a63-f4198b83db4d",
   "metadata": {},
   "outputs": [
    {
     "name": "stdin",
     "output_type": "stream",
     "text": [
      "Nhap n: 100\n"
     ]
    },
    {
     "name": "stdout",
     "output_type": "stream",
     "text": [
      "I've found the meaning of life!\n"
     ]
    }
   ],
   "source": [
    "# W4A5\n",
    "n = int(input(\"Nhap n:\"))\n",
    "if n > 0:\n",
    "    for i in range(1, n+1):\n",
    "        if i == 42:\n",
    "            print(\"I've found the meaning of life!\")\n",
    "            break\n",
    "    else:\n",
    "        print(\"It's a joke!\")\n",
    "else:\n",
    "    print(\"Nhap so nguyen duong\")\n"
   ]
  },
  {
   "cell_type": "code",
   "execution_count": 48,
   "id": "63131d4e-9b7b-404d-a5a6-2fb38c275700",
   "metadata": {},
   "outputs": [
    {
     "name": "stdin",
     "output_type": "stream",
     "text": [
      "Nhap a: 11\n",
      "Nhap b: 1\n"
     ]
    },
    {
     "name": "stdout",
     "output_type": "stream",
     "text": [
      "11 la so nguyen to\n",
      "11 la so nguyen to\n",
      "11 la so nguyen to\n",
      "11 la so nguyen to\n",
      "11 la so nguyen to\n",
      "11 la so nguyen to\n",
      "11 la so nguyen to\n",
      "11 la so nguyen to\n",
      "11 la so nguyen to\n",
      "11 la so nguyen to\n",
      "11 la so nguyen to\n",
      "11\n"
     ]
    }
   ],
   "source": [
    "a = int(input(\"Nhap a:\"))\n",
    "b = int(input(\"Nhap b:\"))\n",
    "m = max(a, b)\n",
    "n = min(a, b)\n",
    "for i in range(1, m + 1):\n",
    "    if m % i == 0 and i != 1 and i != m:\n",
    "        print(m, \"khong la so nguyen to\")\n",
    "        break\n",
    "    else:\n",
    "        \n",
    "\n",
    "    "
   ]
  },
  {
   "cell_type": "code",
   "execution_count": null,
   "id": "ea5fa221-a5b6-4521-8dcb-3be79240e8eb",
   "metadata": {},
   "outputs": [],
   "source": []
  }
 ],
 "metadata": {
  "kernelspec": {
   "display_name": "Python 3 (ipykernel)",
   "language": "python",
   "name": "python3"
  },
  "language_info": {
   "codemirror_mode": {
    "name": "ipython",
    "version": 3
   },
   "file_extension": ".py",
   "mimetype": "text/x-python",
   "name": "python",
   "nbconvert_exporter": "python",
   "pygments_lexer": "ipython3",
   "version": "3.13.7"
  }
 },
 "nbformat": 4,
 "nbformat_minor": 5
}

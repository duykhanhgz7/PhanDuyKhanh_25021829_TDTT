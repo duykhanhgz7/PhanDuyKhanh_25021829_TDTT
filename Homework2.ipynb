{
 "cells": [
  {
   "cell_type": "code",
   "execution_count": 1,
   "id": "8ec9b4c7-16f2-4236-b24b-aac9ea9eda47",
   "metadata": {},
   "outputs": [
    {
     "name": "stdin",
     "output_type": "stream",
     "text": [
      "Nhap vao chieu rong: 2\n",
      "Nhap vao chieu dai: 4\n"
     ]
    },
    {
     "name": "stdout",
     "output_type": "stream",
     "text": [
      "Dien tich: 8.0 Chu vi 12.0\n"
     ]
    }
   ],
   "source": [
    "a = float(input(\"Nhap vao chieu rong:\"))\n",
    "b = float(input(\"Nhap vao chieu dai:\"))\n",
    "s = a*b\n",
    "p = (a+b)*2\n",
    "print(\"Dien tich:\", s, \"Chu vi\", p)"
   ]
  },
  {
   "cell_type": "code",
   "execution_count": 5,
   "id": "3cc26482-524c-4d62-be2d-7882dae17a8a",
   "metadata": {},
   "outputs": [
    {
     "name": "stdin",
     "output_type": "stream",
     "text": [
      "Nhap vao ban kinh: 3\n"
     ]
    },
    {
     "name": "stdout",
     "output_type": "stream",
     "text": [
      "28.26 18.84\n"
     ]
    }
   ],
   "source": [
    "r = float(input(\"Nhap vao ban kinh:\"))\n",
    "s = 3.14 * (r**2)\n",
    "p = 2*r*3.14\n",
    "print(s, p)"
   ]
  },
  {
   "cell_type": "code",
   "execution_count": null,
   "id": "82fac44a-21bb-451b-abca-ad47393f9867",
   "metadata": {},
   "outputs": [],
   "source": []
  }
 ],
 "metadata": {
  "kernelspec": {
   "display_name": "Python 3 (ipykernel)",
   "language": "python",
   "name": "python3"
  },
  "language_info": {
   "codemirror_mode": {
    "name": "ipython",
    "version": 3
   },
   "file_extension": ".py",
   "mimetype": "text/x-python",
   "name": "python",
   "nbconvert_exporter": "python",
   "pygments_lexer": "ipython3",
   "version": "3.13.7"
  }
 },
 "nbformat": 4,
 "nbformat_minor": 5
}

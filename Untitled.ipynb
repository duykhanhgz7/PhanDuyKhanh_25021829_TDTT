{
 "cells": [
  {
   "cell_type": "code",
   "execution_count": 4,
   "id": "84c79980-dcb3-4312-b136-f2f7e769d892",
   "metadata": {},
   "outputs": [
    {
     "name": "stdout",
     "output_type": "stream",
     "text": [
      "  help  \n",
      "help\n",
      "help\n"
     ]
    }
   ],
   "source": [
    "s = \"  help  \"\n",
    "print(s)\n",
    "print(\"help\")\n",
    "print(s.strip())"
   ]
  },
  {
   "cell_type": "code",
   "execution_count": 7,
   "id": "0fe4ad90-5f4f-4616-be32-dc6674abee33",
   "metadata": {},
   "outputs": [
    {
     "name": "stdout",
     "output_type": "stream",
     "text": [
      "\n",
      "Tên: Bro\n",
      "Tuổi: 20\n",
      "\n"
     ]
    }
   ],
   "source": [
    "name = \"Bro\"\n",
    "age = 20\n",
    "msg = f\"\"\"\n",
    "Tên: {name}\n",
    "Tuổi: {age}\n",
    "\"\"\"\n",
    "print(msg)\n"
   ]
  },
  {
   "cell_type": "code",
   "execution_count": 9,
   "id": "ceef28ce-0356-4be6-b5dd-32efdb41463f",
   "metadata": {},
   "outputs": [
    {
     "ename": "AttributeError",
     "evalue": "'list' object has no attribute 'split'",
     "output_type": "error",
     "traceback": [
      "\u001b[31m---------------------------------------------------------------------------\u001b[39m",
      "\u001b[31mAttributeError\u001b[39m                            Traceback (most recent call last)",
      "\u001b[36mCell\u001b[39m\u001b[36m \u001b[39m\u001b[32mIn[9]\u001b[39m\u001b[32m, line 2\u001b[39m\n\u001b[32m      1\u001b[39m string = [\u001b[32m1\u001b[39m, \u001b[32m3\u001b[39m, \u001b[32m4\u001b[39m, \u001b[32m2\u001b[39m, \u001b[32m7\u001b[39m]\n\u001b[32m----> \u001b[39m\u001b[32m2\u001b[39m a, b, c, d, e = \u001b[43mstring\u001b[49m\u001b[43m.\u001b[49m\u001b[43msplit\u001b[49m()\n\u001b[32m      3\u001b[39m \u001b[38;5;28mprint\u001b[39m(a, b, c, d, e)\n",
      "\u001b[31mAttributeError\u001b[39m: 'list' object has no attribute 'split'"
     ]
    }
   ],
   "source": [
    "string = [1, 3, 4, 2, 7]\n",
    "a, b, c, d, e = string.split()\n",
    "print(a, b, c, d, e)"
   ]
  },
  {
   "cell_type": "code",
   "execution_count": 10,
   "id": "659306d2-4bbd-4f6e-920c-78124f91ce93",
   "metadata": {},
   "outputs": [
    {
     "name": "stdout",
     "output_type": "stream",
     "text": [
      "Bro 20\n",
      "Tui 25\n",
      "Python 30\n"
     ]
    }
   ],
   "source": [
    "names = [\"Bro\", \"Tui\", \"Python\"]\n",
    "ages = [20, 25, 30]\n",
    "for n, a in zip(names, ages):\n",
    "    print(n, a)\n"
   ]
  },
  {
   "cell_type": "code",
   "execution_count": null,
   "id": "0174700a-5060-4876-886b-ce329d98d9c8",
   "metadata": {},
   "outputs": [],
   "source": []
  }
 ],
 "metadata": {
  "kernelspec": {
   "display_name": "Python 3 (ipykernel)",
   "language": "python",
   "name": "python3"
  },
  "language_info": {
   "codemirror_mode": {
    "name": "ipython",
    "version": 3
   },
   "file_extension": ".py",
   "mimetype": "text/x-python",
   "name": "python",
   "nbconvert_exporter": "python",
   "pygments_lexer": "ipython3",
   "version": "3.13.7"
  }
 },
 "nbformat": 4,
 "nbformat_minor": 5
}
